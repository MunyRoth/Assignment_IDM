{
 "cells": [
  {
   "cell_type": "markdown",
   "source": [
    "# Import Library"
   ],
   "metadata": {
    "collapsed": false
   },
   "id": "5f1ef9a30a96e9cd"
  },
  {
   "cell_type": "code",
   "outputs": [],
   "source": [
    "import pandas as pd\n",
    "import numpy as np"
   ],
   "metadata": {
    "collapsed": false
   },
   "id": "a402d1ee99a3458d",
   "execution_count": null
  },
  {
   "cell_type": "markdown",
   "source": [
    "# Read Dataset and load data into Dataframe"
   ],
   "metadata": {
    "collapsed": false
   },
   "id": "a5b7500d9f9d7840"
  },
  {
   "cell_type": "code",
   "outputs": [],
   "source": [
    "# Read Dataset\n",
    "src_file = 'dataset.csv'\n",
    "\n",
    "# Load data into Dataframe\n",
    "dataframe = pd.read_csv(src_file, encoding=\"utf8\", quotechar=\"\\\"\", engine='python', usecols=[\"TITLE\", \"CATEGORY\"])"
   ],
   "metadata": {
    "collapsed": false
   },
   "id": "3b1829baa479ec81",
   "execution_count": null
  },
  {
   "cell_type": "markdown",
   "source": [
    "# Data Preprocessing"
   ],
   "metadata": {
    "collapsed": false
   },
   "id": "101f20227e9d950d"
  },
  {
   "cell_type": "code",
   "outputs": [],
   "source": [
    "# check for missing data\n",
    "if any(dataframe.isnull().any()):\n",
    "    print('Missing Data\\n')\n",
    "    print(dataframe.isnull().sum())\n",
    "else:\n",
    "    print('No missing data')"
   ],
   "metadata": {
    "collapsed": false
   },
   "id": "5161cbbb7f4cbd7e",
   "execution_count": null
  },
  {
   "cell_type": "code",
   "outputs": [],
   "source": [
    "# check for duplicate\n",
    "if any(dataframe.duplicated()):\n",
    "    print('Duplicate rows found')\n",
    "    print('Number of duplicate rows= ', dataframe[dataframe.duplicated()].shape[0])\n",
    "    dataframe.drop_duplicates(inplace=True, keep='first')\n",
    "    dataframe.reset_index(inplace=True, drop=True)\n",
    "    print('Dropping duplicates\\n')\n",
    "    print(dataframe.shape)\n",
    "else:\n",
    "    print('No duplicate data')"
   ],
   "metadata": {
    "collapsed": false
   },
   "id": "a4339de7d053796d",
   "execution_count": null
  },
  {
   "cell_type": "code",
   "outputs": [],
   "source": [
    "from sklearn.pipeline import Pipeline\n",
    "from sklearn.feature_extraction.text import TfidfVectorizer\n",
    "from nltk import word_tokenize\n",
    "from nltk.corpus import stopwords\n",
    "from nltk.stem import WordNetLemmatizer\n",
    "import re\n",
    "import string\n",
    "from sklearn import set_config\n",
    "\n",
    "set_config(transform_output=\"pandas\")\n",
    "\n",
    "wnl = WordNetLemmatizer()\n",
    "\n",
    "\n",
    "# Function for cleaning and tokenize the headline\n",
    "def tokenize(doc):\n",
    "    document = doc.lower()  # convert the content of the headline to lowercase\n",
    "    document = re.sub(r'\\d+', '', document)  # remove all the digits inside the content (using regular expressions)\n",
    "    document = document.translate(str.maketrans('', '', string.punctuation))  # remove the punctuations (, . ! # ...)\n",
    "    document = document.strip()  # remove the spaces at the start and end of the headline\n",
    "    return [wnl.lemmatize(token) for token in word_tokenize(document) if token not in stopwords.words('english')]\n",
    "    # tokenize the headlines\n",
    "    # and then filter only the words that are not in the english stopwords (words that are commonly used and give no benefits to the classifier)\n",
    "    # and finally templatize all the tokens\n",
    "\n",
    "\n",
    "# The preprocess pipeline\n",
    "preprocessor = Pipeline([\n",
    "    ('tfidf', TfidfVectorizer(tokenizer=tokenize, token_pattern=None)),\n",
    "])\n",
    "\n",
    "tfidf_dataset = preprocessor.fit_transform(dataframe[\"TITLE\"].values)  # process the training dataset"
   ],
   "metadata": {
    "collapsed": false
   },
   "id": "77130c7432b96181",
   "execution_count": null
  },
  {
   "cell_type": "markdown",
   "source": [
    "# Training Model"
   ],
   "metadata": {
    "collapsed": false
   },
   "id": "9ecef23e2d462e93"
  },
  {
   "cell_type": "markdown",
   "source": [
    "## Label encoder"
   ],
   "metadata": {
    "collapsed": false
   },
   "id": "489eb180e3756646"
  },
  {
   "cell_type": "code",
   "outputs": [],
   "source": [
    "from sklearn.preprocessing import LabelEncoder\n",
    "\n",
    "le = LabelEncoder()\n",
    "class_label = le.fit_transform(dataframe[\"CATEGORY\"])\n",
    "list(le.classes_)\n",
    "class_label"
   ],
   "metadata": {
    "collapsed": false
   },
   "id": "bcd889de4730a32b",
   "execution_count": null
  },
  {
   "cell_type": "code",
   "outputs": [],
   "source": [
    "from sklearn.model_selection import train_test_split\n",
    "from sklearn.metrics import accuracy_score, classification_report\n",
    "\n",
    "X_train, X_test, y_train, y_test = train_test_split(\n",
    "    tfidf_dataset.toarray(),\n",
    "    class_label,\n",
    "    test_size=0.3  # the size of the testing dataset (in percentage between 0 and 1)\n",
    ")"
   ],
   "metadata": {
    "collapsed": false
   },
   "id": "16930837d8390be6",
   "execution_count": null
  },
  {
   "cell_type": "code",
   "outputs": [],
   "source": [
    "from sklearn.tree import DecisionTreeClassifier\n",
    "\n",
    "# Create a decision tree classifier\n",
    "DTClass = DecisionTreeClassifier(criterion=\"gini\", splitter=\"best\", random_state=42)\n",
    "\n",
    "# Train the classifier on the training dataset\n",
    "DTClass.fit(X_train, y_train)\n",
    "\n",
    "# Make predictions on the test data\n",
    "y_pred_dt = DTClass.predict(X_test)\n",
    "\n",
    "print(\"Accuracy score of Decision Tree:\")\n",
    "print(accuracy_score(y_test, y_pred_dt))"
   ],
   "metadata": {
    "collapsed": false
   },
   "id": "5b3f204b09e5164f",
   "execution_count": null
  },
  {
   "cell_type": "code",
   "outputs": [],
   "source": [
    "from sklearn.naive_bayes import MultinomialNB\n",
    "\n",
    "# Create a Multinomial Naive Bayes classifier\n",
    "NBClass = MultinomialNB()\n",
    "\n",
    "# Train the classifier on the training dataset\n",
    "NBClass.fit(X_train, y_train)\n",
    "\n",
    "# Make predictions on the test data\n",
    "y_pred_nb = NBClass.predict(X_test)\n",
    "\n",
    "# Evaluate the performance of the model\n",
    "print(\"Accuracy score of Naive Bayes:\")\n",
    "print(accuracy_score(y_test, y_pred_nb))"
   ],
   "metadata": {
    "collapsed": false
   },
   "id": "8ac9a14fbe75bc7",
   "execution_count": null
  },
  {
   "cell_type": "code",
   "outputs": [],
   "source": [
    "from tensorflow.keras.models import Sequential\n",
    "from tensorflow.keras.layers import Dense\n",
    "from tensorflow.keras.optimizers import Adam\n",
    "\n",
    "# Build the neural network model\n",
    "model = Sequential()\n",
    "model.add(Dense(16, activation='relu', input_shape=(X_train.shape[1],)))\n",
    "model.add(Dense(32, activation='relu'))\n",
    "\n",
    "num_classes = len(np.unique(class_label))\n",
    "model.add(Dense(num_classes, activation='softmax'))\n",
    "\n",
    "# Compile the model\n",
    "model.compile(optimizer=Adam(), loss='sparse_categorical_crossentropy', metrics=['accuracy'])\n",
    "\n",
    "# Train the model\n",
    "model.fit(X_train, y_train, epochs=10, batch_size=32, validation_split=0.1)\n",
    "\n",
    "# Make predictions on the test data\n",
    "y_pred_nn = np.argmax(model.predict(X_test), axis=-1)\n",
    "\n",
    "# Evaluate the performance of the model\n",
    "print(\"Accuracy score of Neural Network:\")\n",
    "print(accuracy_score(y_test, y_pred_nn))"
   ],
   "metadata": {
    "collapsed": false
   },
   "id": "e4f1af841a349988",
   "execution_count": null
  },
  {
   "cell_type": "code",
   "outputs": [],
   "source": [
    "print(classification_report(y_test, y_pred_dt, zero_division=1))"
   ],
   "metadata": {
    "collapsed": false
   },
   "id": "1cd72a4ebf0320a8",
   "execution_count": null
  },
  {
   "cell_type": "code",
   "outputs": [],
   "source": [
    "print(classification_report(y_test, y_pred_nb, zero_division=1))"
   ],
   "metadata": {
    "collapsed": false
   },
   "id": "4dbe03180d1b21e2",
   "execution_count": null
  },
  {
   "cell_type": "code",
   "outputs": [],
   "source": [
    "print(classification_report(y_test, y_pred_nn, zero_division=1))"
   ],
   "metadata": {
    "collapsed": false
   },
   "id": "d3c13a1b36a50e5f",
   "execution_count": null
  },
  {
   "cell_type": "code",
   "outputs": [],
   "source": [],
   "metadata": {
    "collapsed": false
   },
   "id": "e126800e5db7c40",
   "execution_count": null
  }
 ],
 "metadata": {
  "kernelspec": {
   "display_name": "Python 3",
   "language": "python",
   "name": "python3"
  },
  "language_info": {
   "codemirror_mode": {
    "name": "ipython",
    "version": 2
   },
   "file_extension": ".py",
   "mimetype": "text/x-python",
   "name": "python",
   "nbconvert_exporter": "python",
   "pygments_lexer": "ipython2",
   "version": "2.7.6"
  }
 },
 "nbformat": 4,
 "nbformat_minor": 5
}
